{
 "cells": [
  {
   "cell_type": "code",
   "execution_count": null,
   "metadata": {},
   "outputs": [],
   "source": [
    "import pandas as pd\n",
    "import numpy as np "
   ]
  },
  {
   "cell_type": "code",
   "execution_count": null,
   "metadata": {},
   "outputs": [],
   "source": [
    "data = pd.read_csv(\"P3-Future-500-The-Dataset.csv\") \n",
    "data "
   ]
  },
  {
   "cell_type": "code",
   "execution_count": null,
   "metadata": {},
   "outputs": [],
   "source": [
    "data.head()\n",
    "data.tail(10)\n",
    "data.describe()\n",
    "data.info()\n",
    "# data.factor"
   ]
  },
  {
   "cell_type": "code",
   "execution_count": null,
   "metadata": {},
   "outputs": [],
   "source": [
    "import seaborn as sns\n",
    "import matplotlib.pyplot as plt\n",
    "\n",
    "plt.figure(figsize=(10, 6))\n",
    "sns.heatmap(data.isnull(), cmap='viridis', cbar=False)\n",
    "plt.show()\n"
   ]
  },
  {
   "cell_type": "markdown",
   "metadata": {},
   "source": [
    "##### All the missing values"
   ]
  },
  {
   "cell_type": "code",
   "execution_count": null,
   "metadata": {},
   "outputs": [],
   "source": [
    "x = data[data.isna().any(axis=1)] \n",
    "x"
   ]
  },
  {
   "cell_type": "code",
   "execution_count": null,
   "metadata": {},
   "outputs": [],
   "source": [
    "missing_value = data.isna().sum()\n",
    "missing_value"
   ]
  },
  {
   "cell_type": "code",
   "execution_count": null,
   "metadata": {},
   "outputs": [],
   "source": [
    "x = data[data['Industry']==\"Retail\"]\n",
    "x"
   ]
  },
  {
   "cell_type": "markdown",
   "metadata": {},
   "source": [
    "#####  Now we fill Employees section \n",
    "Industry == Null"
   ]
  },
  {
   "cell_type": "code",
   "execution_count": null,
   "metadata": {},
   "outputs": [],
   "source": [
    "missing_employee = data[data['Employees'].isna()==True]\n",
    "missing_employee"
   ]
  },
  {
   "cell_type": "code",
   "execution_count": null,
   "metadata": {},
   "outputs": [],
   "source": [
    "x = data['Employees'].mean()\n",
    "y = data['Employees'].median()\n",
    "x,y"
   ]
  },
  {
   "cell_type": "code",
   "execution_count": null,
   "metadata": {},
   "outputs": [],
   "source": [
    "x1 = data[data['Industry']=='Retail']['Employees'].mean()\n",
    "y1 = data[data['Industry']=='Retail']['Employees'].median()\n",
    "x1,y1"
   ]
  },
  {
   "cell_type": "code",
   "execution_count": null,
   "metadata": {},
   "outputs": [],
   "source": [
    "data.loc[data['Industry']=='Retail','Employees'] = data[data['Industry'] == 'Retail']['Employees'].fillna(data[data['Industry'] == 'Retail']['Employees'].median()) \n",
    "data = data.reset_index(drop = True)   \n",
    "\n",
    "data  "
   ]
  },
  {
   "cell_type": "code",
   "execution_count": null,
   "metadata": {},
   "outputs": [],
   "source": [
    "missing_employee = data[data['Employees'].isna()==True]\n",
    "missing_employee"
   ]
  },
  {
   "cell_type": "code",
   "execution_count": null,
   "metadata": {},
   "outputs": [],
   "source": [
    "# data.loc[data['Industry']=='Financial Services','Employees'] = data['Employees'].fillna(y1)\n",
    "# data\n",
    "\n",
    "\n",
    "# if this is last empty coloumn we can fill direct\n",
    "data['Employees'] = data['Employees'].fillna(y1)    # Meadian\n",
    "data"
   ]
  },
  {
   "cell_type": "markdown",
   "metadata": {},
   "source": [
    "##### Growth Column "
   ]
  },
  {
   "cell_type": "code",
   "execution_count": null,
   "metadata": {},
   "outputs": [],
   "source": [
    "x = data[data.isna().any(axis=1)]\n",
    "x"
   ]
  },
  {
   "cell_type": "code",
   "execution_count": null,
   "metadata": {},
   "outputs": [],
   "source": [
    "data['Growth'] = pd.to_numeric(data['Growth'].str.rstrip('%'), errors='coerce')\n",
    "median_growth = data['Growth'].median(skipna=True)\n",
    "median_growth"
   ]
  },
  {
   "cell_type": "code",
   "execution_count": null,
   "metadata": {},
   "outputs": [],
   "source": [
    "growth_median_con = data[data[\"Industry\"]=='Construction']['Growth'].median()\n",
    "median_growth,growth_median_con"
   ]
  },
  {
   "cell_type": "code",
   "execution_count": null,
   "metadata": {},
   "outputs": [],
   "source": [
    "data['Growth'] = data['Growth'].fillna(growth_median_con)\n",
    "data"
   ]
  },
  {
   "cell_type": "code",
   "execution_count": null,
   "metadata": {},
   "outputs": [],
   "source": [
    "x = data[data.isna().any(axis=1)]\n",
    "x"
   ]
  },
  {
   "cell_type": "markdown",
   "metadata": {},
   "source": [
    "#### Drop INDDUSTRY == NULL Part"
   ]
  },
  {
   "cell_type": "code",
   "execution_count": null,
   "metadata": {},
   "outputs": [],
   "source": [
    "data = data.dropna(subset=['Industry'],axis=0)\n",
    "data.reset_index(drop=True)\n",
    "data"
   ]
  },
  {
   "cell_type": "code",
   "execution_count": null,
   "metadata": {},
   "outputs": [],
   "source": [
    "x = data[data.isna().any(axis=1)]\n",
    "x"
   ]
  },
  {
   "cell_type": "markdown",
   "metadata": {},
   "source": [
    "#### fill Revenue Column"
   ]
  },
  {
   "cell_type": "code",
   "execution_count": null,
   "metadata": {},
   "outputs": [],
   "source": [
    "data['Revenue'] = pd.to_numeric(data['Revenue'].replace('[\\$,]', '', regex=True), errors='coerce')\n",
    "\n",
    "median_revenue = data['Revenue'].median(skipna=True)\n",
    "median_revenue\n"
   ]
  },
  {
   "cell_type": "code",
   "execution_count": null,
   "metadata": {},
   "outputs": [],
   "source": [
    "median_revenue_con = data[data['Industry']=='Construction']['Revenue'].median()\n",
    "median_revenue_con"
   ]
  },
  {
   "cell_type": "code",
   "execution_count": null,
   "metadata": {},
   "outputs": [],
   "source": [
    "data['Revenue'] = data['Revenue'].fillna(median_revenue_con)\n",
    "data"
   ]
  },
  {
   "cell_type": "code",
   "execution_count": null,
   "metadata": {},
   "outputs": [],
   "source": [
    "x = data[data.isna().any(axis=1)]\n",
    "x"
   ]
  },
  {
   "cell_type": "markdown",
   "metadata": {},
   "source": [
    "##### Fill Expenses "
   ]
  },
  {
   "cell_type": "code",
   "execution_count": null,
   "metadata": {},
   "outputs": [],
   "source": [
    "#data['Expenses'] = pd.to_numeric(data['Expenses'].astype(str).str.replace(\" Dollars\", \"\", regex=True), errors='coerce')\n",
    "\n",
    "data['Expenses'] = pd.to_numeric(data['Expenses'].str.replace(\" Dollars\", \"\", regex=True).str.replace(\",\", \"\"), errors='coerce')\n",
    "data = data.reset_index(drop=True)\n",
    "data"
   ]
  },
  {
   "cell_type": "code",
   "execution_count": null,
   "metadata": {},
   "outputs": [],
   "source": [
    "median_expenses_con = data[data['Industry']==\"Construction\"]['Expenses'].median()\n",
    "median_expenses = data['Expenses'].median()\n",
    "median_expenses,median_expenses_con"
   ]
  },
  {
   "cell_type": "code",
   "execution_count": null,
   "metadata": {},
   "outputs": [],
   "source": [
    "data.loc[data['Industry']==\"Construction\",\"Expenses\"] = data[data['Industry']==\"Construction\"]['Expenses'].fillna(median_expenses_con)\n",
    "data"
   ]
  },
  {
   "cell_type": "code",
   "execution_count": null,
   "metadata": {},
   "outputs": [],
   "source": [
    "x = data[data.isna().any(axis=1)]\n",
    "x"
   ]
  },
  {
   "cell_type": "code",
   "execution_count": null,
   "metadata": {},
   "outputs": [],
   "source": [
    "# fill expenses into IT Service \n",
    "\n",
    "median_itservice = data[data['Industry']==\"IT Services\"]['Expenses'].median()\n",
    "median_itservice"
   ]
  },
  {
   "cell_type": "code",
   "execution_count": null,
   "metadata": {},
   "outputs": [],
   "source": [
    "data['Expenses'] = data['Expenses'].fillna(median_itservice)\n",
    "data"
   ]
  },
  {
   "cell_type": "code",
   "execution_count": null,
   "metadata": {},
   "outputs": [],
   "source": [
    "x = data[data.isna().any(axis=1)]\n",
    "x"
   ]
  },
  {
   "cell_type": "code",
   "execution_count": null,
   "metadata": {},
   "outputs": [],
   "source": [
    "data['Profit'] = data['Profit'].fillna(data['Revenue'] - data['Expenses'])\n",
    "data.loc[[7,41]]"
   ]
  },
  {
   "cell_type": "code",
   "execution_count": null,
   "metadata": {},
   "outputs": [],
   "source": [
    "x = data[data.isna().any(axis=1)]\n",
    "x"
   ]
  },
  {
   "cell_type": "code",
   "execution_count": null,
   "metadata": {},
   "outputs": [],
   "source": [
    "data['State'] = data['City'].map({'New York':'NY','San Francisco':'CA'}).fillna(data['State'])\n",
    "#data.set_index(index = True)\n",
    "data"
   ]
  },
  {
   "cell_type": "code",
   "execution_count": null,
   "metadata": {},
   "outputs": [],
   "source": [
    "x = data[data.isna().any(axis=1)]\n",
    "x"
   ]
  },
  {
   "cell_type": "markdown",
   "metadata": {},
   "source": [
    "#### Visulalization \n",
    "- A Scatter classified by the industry showing Revenue, Expenses and profit \n",
    "- A scatter plot that include industry trends for the expenses - revenue relationship\n",
    "- Box plot showing Growth by Industry"
   ]
  },
  {
   "cell_type": "code",
   "execution_count": null,
   "metadata": {},
   "outputs": [],
   "source": []
  }
 ],
 "metadata": {
  "kernelspec": {
   "display_name": "base",
   "language": "python",
   "name": "python3"
  },
  "language_info": {
   "codemirror_mode": {
    "name": "ipython",
    "version": 3
   },
   "file_extension": ".py",
   "mimetype": "text/x-python",
   "name": "python",
   "nbconvert_exporter": "python",
   "pygments_lexer": "ipython3",
   "version": "3.9.12"
  }
 },
 "nbformat": 4,
 "nbformat_minor": 2
}
